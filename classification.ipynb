{
 "cells": [
  {
   "cell_type": "code",
   "execution_count": 1,
   "metadata": {},
   "outputs": [],
   "source": [
    "\n",
    "import torch\n",
    "import pandas as pd\n",
    "from transformers import AutoTokenizer, AutoModelForSeq2SeqLM\n",
    "\n",
    "tokenizer = AutoTokenizer.from_pretrained(\"./model/mt0-small\")\n",
    "model = AutoModelForSeq2SeqLM.from_pretrained(\"./model/mt0-small\").encoder.eval()\n",
    "\n",
    "df = pd.read_csv(\"stories.csv\")\n",
    "df[\"affiliation\"] = df[\"affiliation\"] == \"hero\"\n",
    "\n",
    "\n",
    "with torch.no_grad():\n",
    "\tdf[\"embedding\"] = list(model(**tokenizer(df.story.to_list(), truncation=True, return_tensors=\"pt\", padding=\"max_length\", max_length=256)).last_hidden_state.numpy().reshape(len(df), -1))"
   ]
  },
  {
   "cell_type": "code",
   "execution_count": 2,
   "metadata": {},
   "outputs": [
    {
     "data": {
      "text/html": [
       "<div>\n",
       "<style scoped>\n",
       "    .dataframe tbody tr th:only-of-type {\n",
       "        vertical-align: middle;\n",
       "    }\n",
       "\n",
       "    .dataframe tbody tr th {\n",
       "        vertical-align: top;\n",
       "    }\n",
       "\n",
       "    .dataframe thead th {\n",
       "        text-align: right;\n",
       "    }\n",
       "</style>\n",
       "<table border=\"1\" class=\"dataframe\">\n",
       "  <thead>\n",
       "    <tr style=\"text-align: right;\">\n",
       "      <th></th>\n",
       "      <th>name</th>\n",
       "      <th>affiliation</th>\n",
       "      <th>story</th>\n",
       "      <th>embedding</th>\n",
       "    </tr>\n",
       "  </thead>\n",
       "  <tbody>\n",
       "    <tr>\n",
       "      <th>0</th>\n",
       "      <td>Elena</td>\n",
       "      <td>True</td>\n",
       "      <td>In a quiet village nestled between mountains, ...</td>\n",
       "      <td>[0.0134226, 0.09059348, 0.24420658, 0.093445, ...</td>\n",
       "    </tr>\n",
       "    <tr>\n",
       "      <th>1</th>\n",
       "      <td>Victor</td>\n",
       "      <td>False</td>\n",
       "      <td>Once a respected scholar, Victor became obsess...</td>\n",
       "      <td>[-0.13793102, -0.08190563, 0.22876039, 0.07411...</td>\n",
       "    </tr>\n",
       "    <tr>\n",
       "      <th>2</th>\n",
       "      <td>Mira</td>\n",
       "      <td>True</td>\n",
       "      <td>When the river dried up, leaving the town of G...</td>\n",
       "      <td>[-0.14537127, -0.07793305, 0.27147087, 0.06156...</td>\n",
       "    </tr>\n",
       "    <tr>\n",
       "      <th>3</th>\n",
       "      <td>Lucian</td>\n",
       "      <td>False</td>\n",
       "      <td>A charismatic nobleman, Lucian was once belove...</td>\n",
       "      <td>[-0.06226392, -0.09527724, 0.18944606, 0.07600...</td>\n",
       "    </tr>\n",
       "    <tr>\n",
       "      <th>4</th>\n",
       "      <td>Sofia</td>\n",
       "      <td>True</td>\n",
       "      <td>In a bustling port city, a young seamstress na...</td>\n",
       "      <td>[-0.04897955, 0.043331318, 0.25325763, 0.05164...</td>\n",
       "    </tr>\n",
       "    <tr>\n",
       "      <th>...</th>\n",
       "      <td>...</td>\n",
       "      <td>...</td>\n",
       "      <td>...</td>\n",
       "      <td>...</td>\n",
       "    </tr>\n",
       "    <tr>\n",
       "      <th>495</th>\n",
       "      <td>Omar</td>\n",
       "      <td>False</td>\n",
       "      <td>The city was running out of green spaces, but ...</td>\n",
       "      <td>[-0.28018677, -0.16312619, 0.19061351, 0.04516...</td>\n",
       "    </tr>\n",
       "    <tr>\n",
       "      <th>496</th>\n",
       "      <td>Fayza</td>\n",
       "      <td>False</td>\n",
       "      <td>The rare historical artifact was stolen, and F...</td>\n",
       "      <td>[-0.27232927, -0.16289006, 0.2347683, 0.065352...</td>\n",
       "    </tr>\n",
       "    <tr>\n",
       "      <th>497</th>\n",
       "      <td>Ibrahim</td>\n",
       "      <td>False</td>\n",
       "      <td>The town was devastated by a flood, but Ibrahi...</td>\n",
       "      <td>[-0.27734616, -0.13257247, 0.22166508, 0.06070...</td>\n",
       "    </tr>\n",
       "    <tr>\n",
       "      <th>498</th>\n",
       "      <td>Yasmin</td>\n",
       "      <td>False</td>\n",
       "      <td>The city’s air quality was deteriorating, and ...</td>\n",
       "      <td>[-0.2838643, -0.15304893, 0.19749913, 0.073238...</td>\n",
       "    </tr>\n",
       "    <tr>\n",
       "      <th>499</th>\n",
       "      <td>Jad</td>\n",
       "      <td>False</td>\n",
       "      <td>The local library was underfunded, but Jad, a ...</td>\n",
       "      <td>[-0.260504, -0.12607977, 0.16354884, 0.0354013...</td>\n",
       "    </tr>\n",
       "  </tbody>\n",
       "</table>\n",
       "<p>500 rows × 4 columns</p>\n",
       "</div>"
      ],
      "text/plain": [
       "        name  affiliation                                              story  \\\n",
       "0      Elena         True  In a quiet village nestled between mountains, ...   \n",
       "1     Victor        False  Once a respected scholar, Victor became obsess...   \n",
       "2       Mira         True  When the river dried up, leaving the town of G...   \n",
       "3     Lucian        False  A charismatic nobleman, Lucian was once belove...   \n",
       "4      Sofia         True  In a bustling port city, a young seamstress na...   \n",
       "..       ...          ...                                                ...   \n",
       "495     Omar        False  The city was running out of green spaces, but ...   \n",
       "496    Fayza        False  The rare historical artifact was stolen, and F...   \n",
       "497  Ibrahim        False  The town was devastated by a flood, but Ibrahi...   \n",
       "498   Yasmin        False  The city’s air quality was deteriorating, and ...   \n",
       "499      Jad        False  The local library was underfunded, but Jad, a ...   \n",
       "\n",
       "                                             embedding  \n",
       "0    [0.0134226, 0.09059348, 0.24420658, 0.093445, ...  \n",
       "1    [-0.13793102, -0.08190563, 0.22876039, 0.07411...  \n",
       "2    [-0.14537127, -0.07793305, 0.27147087, 0.06156...  \n",
       "3    [-0.06226392, -0.09527724, 0.18944606, 0.07600...  \n",
       "4    [-0.04897955, 0.043331318, 0.25325763, 0.05164...  \n",
       "..                                                 ...  \n",
       "495  [-0.28018677, -0.16312619, 0.19061351, 0.04516...  \n",
       "496  [-0.27232927, -0.16289006, 0.2347683, 0.065352...  \n",
       "497  [-0.27734616, -0.13257247, 0.22166508, 0.06070...  \n",
       "498  [-0.2838643, -0.15304893, 0.19749913, 0.073238...  \n",
       "499  [-0.260504, -0.12607977, 0.16354884, 0.0354013...  \n",
       "\n",
       "[500 rows x 4 columns]"
      ]
     },
     "execution_count": 2,
     "metadata": {},
     "output_type": "execute_result"
    }
   ],
   "source": [
    "df"
   ]
  },
  {
   "cell_type": "code",
   "execution_count": 3,
   "metadata": {},
   "outputs": [],
   "source": [
    "import xgboost as xgb\n",
    "from sklearn.model_selection import train_test_split\n",
    "from sklearn.metrics import accuracy_score\n",
    "import numpy as np\n",
    "\n",
    "X = np.vstack(df[\"embedding\"].values)\n",
    "y = df[\"affiliation\"].astype(int)\n",
    "\n",
    "X_train, X_test, y_train, y_test = train_test_split(X, y, test_size=0.2, random_state=42)"
   ]
  },
  {
   "cell_type": "code",
   "execution_count": 4,
   "metadata": {},
   "outputs": [
    {
     "name": "stderr",
     "output_type": "stream",
     "text": [
      "/home/ventus/.local/lib/python3.12/site-packages/xgboost/core.py:158: UserWarning: [20:19:34] WARNING: /workspace/src/learner.cc:740: \n",
      "Parameters: { \"use_label_encoder\" } are not used.\n",
      "\n",
      "  warnings.warn(smsg, UserWarning)\n"
     ]
    },
    {
     "name": "stdout",
     "output_type": "stream",
     "text": [
      "Model Accuracy: 0.95\n"
     ]
    }
   ],
   "source": [
    "model = xgb.XGBClassifier(use_label_encoder=False, eval_metric='logloss')\n",
    "model.fit(X_train, y_train)\n",
    "\n",
    "# Predict on test data\n",
    "y_pred = model.predict(X_test)\n",
    "\n",
    "# Evaluate model\n",
    "accuracy = accuracy_score(y_test, y_pred)\n",
    "print(f\"Model Accuracy: {accuracy:.2f}\")\n"
   ]
  },
  {
   "cell_type": "code",
   "execution_count": 5,
   "metadata": {},
   "outputs": [
    {
     "data": {
      "text/plain": [
       "array([0, 1, 0, 1, 0, 0, 0, 0, 0, 0, 0, 0, 0, 0, 0, 0, 0, 1, 1, 0, 0, 0,\n",
       "       0, 1, 0, 0, 0, 1, 1, 1, 0, 1, 0, 0, 1, 0, 0, 0, 1, 1, 0, 1, 0, 0,\n",
       "       0, 1, 1, 0, 0, 1, 1, 1, 1, 0, 1, 1, 0, 1, 0, 0, 0, 0, 0, 0, 1, 1,\n",
       "       0, 1, 0, 0, 1, 0, 0, 0, 0, 1, 0, 1, 0, 0, 0, 0, 0, 1, 0, 0, 1, 0,\n",
       "       1, 0, 0, 0, 0, 1, 0, 0, 1, 1, 0, 0])"
      ]
     },
     "execution_count": 5,
     "metadata": {},
     "output_type": "execute_result"
    }
   ],
   "source": [
    "model.predict(X_test)"
   ]
  },
  {
   "cell_type": "code",
   "execution_count": null,
   "metadata": {},
   "outputs": [],
   "source": []
  }
 ],
 "metadata": {
  "kernelspec": {
   "display_name": "Python 3",
   "language": "python",
   "name": "python3"
  },
  "language_info": {
   "codemirror_mode": {
    "name": "ipython",
    "version": 3
   },
   "file_extension": ".py",
   "mimetype": "text/x-python",
   "name": "python",
   "nbconvert_exporter": "python",
   "pygments_lexer": "ipython3",
   "version": "3.12.7"
  }
 },
 "nbformat": 4,
 "nbformat_minor": 2
}
